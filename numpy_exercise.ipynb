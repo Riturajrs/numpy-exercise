{
  "nbformat": 4,
  "nbformat_minor": 0,
  "metadata": {
    "colab": {
      "name": "numpy-exercise.ipynb",
      "provenance": [],
      "collapsed_sections": [],
      "authorship_tag": "ABX9TyPEt8B/QjnLL8IeGa+12bUc",
      "include_colab_link": true
    },
    "kernelspec": {
      "name": "python3",
      "display_name": "Python 3"
    },
    "language_info": {
      "name": "python"
    }
  },
  "cells": [
    {
      "cell_type": "markdown",
      "metadata": {
        "id": "view-in-github",
        "colab_type": "text"
      },
      "source": [
        "<a href=\"https://colab.research.google.com/github/Riturajseal2001/numpy-exercise/blob/main/numpy_exercise.ipynb\" target=\"_parent\"><img src=\"https://colab.research.google.com/assets/colab-badge.svg\" alt=\"Open In Colab\"/></a>"
      ]
    },
    {
      "cell_type": "code",
      "metadata": {
        "colab": {
          "base_uri": "https://localhost:8080/"
        },
        "id": "dKHb5otnHofV",
        "outputId": "bc843c55-0e71-4196-8064-523c70a56652"
      },
      "source": [
        "import numpy as np\n",
        "print(np.__version__)\n",
        "print(np.show_config())"
      ],
      "execution_count": 1,
      "outputs": [
        {
          "output_type": "stream",
          "name": "stdout",
          "text": [
            "1.19.5\n",
            "blas_mkl_info:\n",
            "  NOT AVAILABLE\n",
            "blis_info:\n",
            "  NOT AVAILABLE\n",
            "openblas_info:\n",
            "    libraries = ['openblas', 'openblas']\n",
            "    library_dirs = ['/usr/local/lib']\n",
            "    language = c\n",
            "    define_macros = [('HAVE_CBLAS', None)]\n",
            "blas_opt_info:\n",
            "    libraries = ['openblas', 'openblas']\n",
            "    library_dirs = ['/usr/local/lib']\n",
            "    language = c\n",
            "    define_macros = [('HAVE_CBLAS', None)]\n",
            "lapack_mkl_info:\n",
            "  NOT AVAILABLE\n",
            "openblas_lapack_info:\n",
            "    libraries = ['openblas', 'openblas']\n",
            "    library_dirs = ['/usr/local/lib']\n",
            "    language = c\n",
            "    define_macros = [('HAVE_CBLAS', None)]\n",
            "lapack_opt_info:\n",
            "    libraries = ['openblas', 'openblas']\n",
            "    library_dirs = ['/usr/local/lib']\n",
            "    language = c\n",
            "    define_macros = [('HAVE_CBLAS', None)]\n",
            "None\n"
          ]
        }
      ]
    },
    {
      "cell_type": "markdown",
      "metadata": {
        "id": "zeUpUGhBxBlx"
      },
      "source": [
        ""
      ]
    },
    {
      "cell_type": "code",
      "metadata": {
        "id": "8c15e3gXIUk_"
      },
      "source": [
        "ar = np.zeros(10)"
      ],
      "execution_count": 2,
      "outputs": []
    },
    {
      "cell_type": "code",
      "metadata": {
        "colab": {
          "base_uri": "https://localhost:8080/"
        },
        "id": "QxpisMc2HsZr",
        "outputId": "33333005-80b5-424e-f679-921364993ca8"
      },
      "source": [
        "print(ar.size)"
      ],
      "execution_count": 3,
      "outputs": [
        {
          "output_type": "stream",
          "name": "stdout",
          "text": [
            "10\n"
          ]
        }
      ]
    },
    {
      "cell_type": "code",
      "metadata": {
        "colab": {
          "base_uri": "https://localhost:8080/"
        },
        "id": "Be_5hKygJHMb",
        "outputId": "2a165e56-3127-4366-cc59-20c6f8f3e94a"
      },
      "source": [
        "ar1 = np.zeros(10)\n",
        "ar1[4] = 1\n",
        "print(ar1)"
      ],
      "execution_count": 4,
      "outputs": [
        {
          "output_type": "stream",
          "name": "stdout",
          "text": [
            "[0. 0. 0. 0. 1. 0. 0. 0. 0. 0.]\n"
          ]
        }
      ]
    },
    {
      "cell_type": "code",
      "metadata": {
        "colab": {
          "base_uri": "https://localhost:8080/"
        },
        "id": "2_qJU_rIMUTP",
        "outputId": "99bae86c-a0c0-42b0-d69f-0e5c0057db27"
      },
      "source": [
        "V = np.arange(10,50)\n",
        "print(V)"
      ],
      "execution_count": 5,
      "outputs": [
        {
          "output_type": "stream",
          "name": "stdout",
          "text": [
            "[10 11 12 13 14 15 16 17 18 19 20 21 22 23 24 25 26 27 28 29 30 31 32 33\n",
            " 34 35 36 37 38 39 40 41 42 43 44 45 46 47 48 49]\n"
          ]
        }
      ]
    },
    {
      "cell_type": "code",
      "metadata": {
        "colab": {
          "base_uri": "https://localhost:8080/"
        },
        "id": "2nZKqYQ6MWFv",
        "outputId": "2b11953c-e10a-492c-81db-a867e3d46ba9"
      },
      "source": [
        "V = V[:: -1 ]\n",
        "print(V)"
      ],
      "execution_count": 6,
      "outputs": [
        {
          "output_type": "stream",
          "name": "stdout",
          "text": [
            "[49 48 47 46 45 44 43 42 41 40 39 38 37 36 35 34 33 32 31 30 29 28 27 26\n",
            " 25 24 23 22 21 20 19 18 17 16 15 14 13 12 11 10]\n"
          ]
        }
      ]
    },
    {
      "cell_type": "code",
      "metadata": {
        "colab": {
          "base_uri": "https://localhost:8080/"
        },
        "id": "nM8uCi-JMkvk",
        "outputId": "7d8a2cc2-139a-4233-b06b-d6d56cdc824e"
      },
      "source": [
        "ar3 = np.arange(0,9)\n",
        "ar3 = ar3.reshape(3,3)\n",
        "print(ar3)"
      ],
      "execution_count": 7,
      "outputs": [
        {
          "output_type": "stream",
          "name": "stdout",
          "text": [
            "[[0 1 2]\n",
            " [3 4 5]\n",
            " [6 7 8]]\n"
          ]
        }
      ]
    },
    {
      "cell_type": "code",
      "metadata": {
        "colab": {
          "base_uri": "https://localhost:8080/"
        },
        "id": "2kRJsmj3Mz_h",
        "outputId": "a2496a09-6b75-442b-f4e8-fa6527c377f5"
      },
      "source": [
        "print(np.nonzero([1,2,0,0,4,0]))"
      ],
      "execution_count": 8,
      "outputs": [
        {
          "output_type": "stream",
          "name": "stdout",
          "text": [
            "(array([0, 1, 4]),)\n"
          ]
        }
      ]
    },
    {
      "cell_type": "code",
      "metadata": {
        "colab": {
          "base_uri": "https://localhost:8080/"
        },
        "id": "pmTRfhyONpDP",
        "outputId": "3ac51c39-3160-464e-d185-e6fe2ee2e841"
      },
      "source": [
        "ar = np.eye(3)\n",
        "print(ar)"
      ],
      "execution_count": 9,
      "outputs": [
        {
          "output_type": "stream",
          "name": "stdout",
          "text": [
            "[[1. 0. 0.]\n",
            " [0. 1. 0.]\n",
            " [0. 0. 1.]]\n"
          ]
        }
      ]
    },
    {
      "cell_type": "code",
      "metadata": {
        "colab": {
          "base_uri": "https://localhost:8080/"
        },
        "id": "ZbAdxQerNzjF",
        "outputId": "f6c3ba39-4671-4b46-b7bb-5bd719d7d070"
      },
      "source": [
        "print(np.random.uniform((3,3,3)))"
      ],
      "execution_count": 10,
      "outputs": [
        {
          "output_type": "stream",
          "name": "stdout",
          "text": [
            "[2.34735212 1.95726224 2.69445936]\n"
          ]
        }
      ]
    },
    {
      "cell_type": "code",
      "metadata": {
        "colab": {
          "base_uri": "https://localhost:8080/"
        },
        "id": "0xF86RqByhQt",
        "outputId": "3b419d05-16f7-4197-c11a-23cf527294d9"
      },
      "source": [
        "ar = np.random.random((10,10))\n",
        "mn = ar.min()\n",
        "mx = ar.max()\n",
        "print(ar)\n",
        "print(mn)\n",
        "print(mx)"
      ],
      "execution_count": 11,
      "outputs": [
        {
          "output_type": "stream",
          "name": "stdout",
          "text": [
            "[[0.20075091 0.26016945 0.4981646  0.90725003 0.29943476 0.97055196\n",
            "  0.56195649 0.32168216 0.82071884 0.75549615]\n",
            " [0.66837728 0.14328212 0.64151249 0.03580336 0.35275633 0.81281909\n",
            "  0.6110934  0.41971346 0.68297377 0.44724576]\n",
            " [0.74739722 0.06273339 0.10837827 0.99995568 0.56079291 0.53136931\n",
            "  0.21181674 0.24533075 0.37915049 0.00983212]\n",
            " [0.70370597 0.27740669 0.94484042 0.44842081 0.29990011 0.967824\n",
            "  0.15689054 0.20955374 0.39360323 0.64648183]\n",
            " [0.77047765 0.27975294 0.14156542 0.60142954 0.8406322  0.40491707\n",
            "  0.58849645 0.27181061 0.45630364 0.51700815]\n",
            " [0.74506706 0.10979531 0.22739624 0.69442725 0.89232243 0.37851716\n",
            "  0.24077266 0.38612835 0.08566642 0.94606197]\n",
            " [0.66984402 0.78361081 0.76847841 0.20092728 0.93378856 0.08712303\n",
            "  0.50156944 0.88315992 0.87589777 0.78889455]\n",
            " [0.09037246 0.50108438 0.71486798 0.9178648  0.19197073 0.73527763\n",
            "  0.69905674 0.92100643 0.02253343 0.24866999]\n",
            " [0.64503316 0.39474256 0.08760539 0.34795199 0.60669698 0.22154253\n",
            "  0.21042079 0.39952072 0.26008559 0.15256866]\n",
            " [0.78009919 0.12352456 0.74592896 0.62153474 0.37274962 0.56175279\n",
            "  0.17083448 0.66100057 0.11448353 0.78526625]]\n",
            "0.009832123935012094\n",
            "0.9999556821769063\n"
          ]
        }
      ]
    },
    {
      "cell_type": "code",
      "metadata": {
        "colab": {
          "base_uri": "https://localhost:8080/"
        },
        "id": "vB20FdyLzdy0",
        "outputId": "57640a1e-d953-4742-c54c-e3ed0c0ef529"
      },
      "source": [
        "v = np.random.random(30)\n",
        "print(v.mean())\n",
        "print(v)"
      ],
      "execution_count": 12,
      "outputs": [
        {
          "output_type": "stream",
          "name": "stdout",
          "text": [
            "0.4811549351700417\n",
            "[0.50086876 0.36326007 0.31876635 0.44442864 0.86781412 0.04272695\n",
            " 0.38853577 0.1780626  0.44317262 0.22831161 0.36392222 0.67094103\n",
            " 0.79702203 0.72202961 0.04556648 0.18178042 0.17439634 0.45949695\n",
            " 0.88406417 0.50571584 0.68705666 0.31923945 0.16553681 0.7868126\n",
            " 0.4917836  0.45012758 0.6671768  0.43479272 0.89189131 0.95934793]\n"
          ]
        }
      ]
    },
    {
      "cell_type": "code",
      "metadata": {
        "colab": {
          "base_uri": "https://localhost:8080/"
        },
        "id": "7HnHTmjdz207",
        "outputId": "724c4667-a1b8-40f5-d126-340f339e6047"
      },
      "source": [
        "ar = np.ones((10,10))\n",
        "ar[1:-1,1:-1] = 0\n",
        "print(ar)"
      ],
      "execution_count": 13,
      "outputs": [
        {
          "output_type": "stream",
          "name": "stdout",
          "text": [
            "[[1. 1. 1. 1. 1. 1. 1. 1. 1. 1.]\n",
            " [1. 0. 0. 0. 0. 0. 0. 0. 0. 1.]\n",
            " [1. 0. 0. 0. 0. 0. 0. 0. 0. 1.]\n",
            " [1. 0. 0. 0. 0. 0. 0. 0. 0. 1.]\n",
            " [1. 0. 0. 0. 0. 0. 0. 0. 0. 1.]\n",
            " [1. 0. 0. 0. 0. 0. 0. 0. 0. 1.]\n",
            " [1. 0. 0. 0. 0. 0. 0. 0. 0. 1.]\n",
            " [1. 0. 0. 0. 0. 0. 0. 0. 0. 1.]\n",
            " [1. 0. 0. 0. 0. 0. 0. 0. 0. 1.]\n",
            " [1. 1. 1. 1. 1. 1. 1. 1. 1. 1.]]\n"
          ]
        }
      ]
    },
    {
      "cell_type": "code",
      "metadata": {
        "colab": {
          "base_uri": "https://localhost:8080/"
        },
        "id": "A_570S3C0eaK",
        "outputId": "e9429b92-c4c8-4778-8a9f-fc5313203b32"
      },
      "source": [
        "print(0 * np.nan)\n",
        "print(np.nan == np.nan)\n",
        "print(np.inf > np.nan)\n",
        "print(np.nan - np.nan)\n",
        "print(np.nan in set([np.nan]))\n",
        "print(0.3 == 3 * 0.1)\n"
      ],
      "execution_count": 14,
      "outputs": [
        {
          "output_type": "stream",
          "name": "stdout",
          "text": [
            "nan\n",
            "False\n",
            "False\n",
            "nan\n",
            "True\n",
            "False\n"
          ]
        }
      ]
    },
    {
      "cell_type": "code",
      "metadata": {
        "colab": {
          "base_uri": "https://localhost:8080/"
        },
        "id": "Xp9ChCiJ01RD",
        "outputId": "95eb91b3-63ea-4159-d10f-260eab39b9b4"
      },
      "source": [
        "ar = np.diag(1+np.arange(4), k = -1)\n",
        "print(ar)"
      ],
      "execution_count": 15,
      "outputs": [
        {
          "output_type": "stream",
          "name": "stdout",
          "text": [
            "[[0 0 0 0 0]\n",
            " [1 0 0 0 0]\n",
            " [0 2 0 0 0]\n",
            " [0 0 3 0 0]\n",
            " [0 0 0 4 0]]\n"
          ]
        }
      ]
    },
    {
      "cell_type": "code",
      "metadata": {
        "colab": {
          "base_uri": "https://localhost:8080/"
        },
        "id": "3fVWH5xU1fKZ",
        "outputId": "09fd2b39-8c45-44a3-d419-d224b00d6186"
      },
      "source": [
        "ar = np.zeros ((8,8))\n",
        "ar[1::2, ::2]= 1\n",
        "ar[::2, 1::2] = 1\n",
        "print (ar)"
      ],
      "execution_count": 16,
      "outputs": [
        {
          "output_type": "stream",
          "name": "stdout",
          "text": [
            "[[0. 1. 0. 1. 0. 1. 0. 1.]\n",
            " [1. 0. 1. 0. 1. 0. 1. 0.]\n",
            " [0. 1. 0. 1. 0. 1. 0. 1.]\n",
            " [1. 0. 1. 0. 1. 0. 1. 0.]\n",
            " [0. 1. 0. 1. 0. 1. 0. 1.]\n",
            " [1. 0. 1. 0. 1. 0. 1. 0.]\n",
            " [0. 1. 0. 1. 0. 1. 0. 1.]\n",
            " [1. 0. 1. 0. 1. 0. 1. 0.]]\n"
          ]
        }
      ]
    },
    {
      "cell_type": "code",
      "metadata": {
        "colab": {
          "base_uri": "https://localhost:8080/"
        },
        "id": "X21cCYg097K8",
        "outputId": "75698829-a2ed-4948-a9d4-d75552b88ab6"
      },
      "source": [
        "ar = np.random.random((5,5))\n",
        "max, min = ar.max(), ar.min()\n",
        "ar = (ar-min)/(max-min)\n",
        "print (ar)"
      ],
      "execution_count": 17,
      "outputs": [
        {
          "output_type": "stream",
          "name": "stdout",
          "text": [
            "[[0.82404858 0.75404303 0.45243579 0.61930479 0.44834281]\n",
            " [0.28995846 0.73996437 1.         0.02638477 0.39008332]\n",
            " [0.80571797 0.57042255 0.12409931 0.5671532  0.61788548]\n",
            " [0.35867273 0.83363071 0.60342968 0.2397616  0.74142224]\n",
            " [0.01817088 0.04601159 0.67552322 0.         0.17368009]]\n"
          ]
        }
      ]
    },
    {
      "cell_type": "code",
      "metadata": {
        "id": "e56zLsBuB-n5"
      },
      "source": [
        "color = np.dtype([(\"r\", np.int),\n",
        "                  (\"g\", np.int),\n",
        "                  (\"b\", np.int),\n",
        "                  (\"a\", np.int)])"
      ],
      "execution_count": 18,
      "outputs": []
    },
    {
      "cell_type": "code",
      "metadata": {
        "colab": {
          "base_uri": "https://localhost:8080/"
        },
        "id": "iqldh7TyCpzw",
        "outputId": "5a60ec82-375b-4373-91c7-6bbba774c834"
      },
      "source": [
        "np.dot((np.arange(15).reshape((5,3))),(np.arange(6).reshape((3,2))))"
      ],
      "execution_count": 19,
      "outputs": [
        {
          "output_type": "execute_result",
          "data": {
            "text/plain": [
              "array([[ 10,  13],\n",
              "       [ 28,  40],\n",
              "       [ 46,  67],\n",
              "       [ 64,  94],\n",
              "       [ 82, 121]])"
            ]
          },
          "metadata": {},
          "execution_count": 19
        }
      ]
    },
    {
      "cell_type": "code",
      "metadata": {
        "colab": {
          "base_uri": "https://localhost:8080/"
        },
        "id": "8V-HnwuHCVJt",
        "outputId": "0e4ca143-8c69-4842-c818-a029b9322d87"
      },
      "source": [
        "x = np.arange(20)\n",
        "x[(x >= 3) & (x <= 8)] = -1\n",
        "print(x)"
      ],
      "execution_count": 20,
      "outputs": [
        {
          "output_type": "stream",
          "name": "stdout",
          "text": [
            "[ 0  1  2 -1 -1 -1 -1 -1 -1  9 10 11 12 13 14 15 16 17 18 19]\n"
          ]
        }
      ]
    },
    {
      "cell_type": "code",
      "metadata": {
        "colab": {
          "base_uri": "https://localhost:8080/"
        },
        "id": "zOgDCi0ZEoxr",
        "outputId": "bbd150e6-b28b-4fee-ffbe-60effbd6b259"
      },
      "source": [
        "print(sum(range(5),-1))\n",
        "from numpy import *\n",
        "print(sum(range(5),-1))"
      ],
      "execution_count": 21,
      "outputs": [
        {
          "output_type": "stream",
          "name": "stdout",
          "text": [
            "9\n",
            "10\n"
          ]
        }
      ]
    },
    {
      "cell_type": "code",
      "metadata": {
        "colab": {
          "base_uri": "https://localhost:8080/"
        },
        "id": "s85LLVP4Eu_l",
        "outputId": "dca9e694-a1f0-467d-9799-1b7d9da96cd6"
      },
      "source": [
        "Z = np.arange(5)\n",
        "Z**Z\n",
        "2 << Z >> 2\n",
        "Z <- Z\n",
        "1j*Z\n",
        "Z/1/1"
      ],
      "execution_count": 22,
      "outputs": [
        {
          "output_type": "execute_result",
          "data": {
            "text/plain": [
              "array([0., 1., 2., 3., 4.])"
            ]
          },
          "metadata": {},
          "execution_count": 22
        }
      ]
    },
    {
      "cell_type": "code",
      "metadata": {
        "colab": {
          "base_uri": "https://localhost:8080/"
        },
        "id": "FZ6QTtSaFI-x",
        "outputId": "648371aa-9cf5-4ee3-ae82-06e580d8f3c9"
      },
      "source": [
        "ar = np.zeros(5)\n",
        "np.array(0) / np.array(0)\n",
        "np.array(0) // np.array(0)\n",
        "np.array([np.nan]).astype(int).astype(float)"
      ],
      "execution_count": 23,
      "outputs": [
        {
          "output_type": "stream",
          "name": "stderr",
          "text": [
            "/usr/local/lib/python3.7/dist-packages/ipykernel_launcher.py:2: RuntimeWarning: invalid value encountered in true_divide\n",
            "  \n",
            "/usr/local/lib/python3.7/dist-packages/ipykernel_launcher.py:3: RuntimeWarning: divide by zero encountered in floor_divide\n",
            "  This is separate from the ipykernel package so we can avoid doing imports until\n"
          ]
        },
        {
          "output_type": "execute_result",
          "data": {
            "text/plain": [
              "array([-9.22337204e+18])"
            ]
          },
          "metadata": {},
          "execution_count": 23
        }
      ]
    },
    {
      "cell_type": "code",
      "metadata": {
        "colab": {
          "base_uri": "https://localhost:8080/"
        },
        "id": "1Pgageq2FcBb",
        "outputId": "510ae1e0-3e62-4da4-f0d1-37a7494076f0"
      },
      "source": [
        "x = np.random.uniform(-10, +10, 10)\n",
        "np.copysign(np.ceil(np.abs(x)), x)"
      ],
      "execution_count": 24,
      "outputs": [
        {
          "output_type": "execute_result",
          "data": {
            "text/plain": [
              "array([-9., 10.,  9.,  4., -4.,  4.,  6., -7.,  3., -1.])"
            ]
          },
          "metadata": {},
          "execution_count": 24
        }
      ]
    },
    {
      "cell_type": "code",
      "metadata": {
        "colab": {
          "base_uri": "https://localhost:8080/"
        },
        "id": "s26myWDwFnxk",
        "outputId": "c1179b18-8cfa-4b55-aefe-d519c8793b19"
      },
      "source": [
        "x = np.arange(0, 15)\n",
        "y = np.arange(5, 15)\n",
        "np.intersect1d(x, y)"
      ],
      "execution_count": 25,
      "outputs": [
        {
          "output_type": "execute_result",
          "data": {
            "text/plain": [
              "array([ 5,  6,  7,  8,  9, 10, 11, 12, 13, 14])"
            ]
          },
          "metadata": {},
          "execution_count": 25
        }
      ]
    },
    {
      "cell_type": "code",
      "metadata": {
        "id": "ZpLdA1HSF6pL"
      },
      "source": [
        "defaults = np.seterr(all=\"ignore\")\n",
        "# _ = np.seterr(**defaults)\n",
        "Z = np.ones(1) / 0\n",
        "_ = np.seterr(**defaults)"
      ],
      "execution_count": 26,
      "outputs": []
    },
    {
      "cell_type": "code",
      "metadata": {
        "colab": {
          "base_uri": "https://localhost:8080/"
        },
        "id": "d5yAVQFpGKab",
        "outputId": "878605df-a97a-4f28-9a8a-d7c11dab69ae"
      },
      "source": [
        "print(np.sqrt(-1) == np.emath.sqrt(-1))"
      ],
      "execution_count": 27,
      "outputs": [
        {
          "output_type": "stream",
          "name": "stdout",
          "text": [
            "False\n"
          ]
        },
        {
          "output_type": "stream",
          "name": "stderr",
          "text": [
            "/usr/local/lib/python3.7/dist-packages/ipykernel_launcher.py:1: RuntimeWarning: invalid value encountered in sqrt\n",
            "  \"\"\"Entry point for launching an IPython kernel.\n"
          ]
        }
      ]
    },
    {
      "cell_type": "code",
      "metadata": {
        "colab": {
          "base_uri": "https://localhost:8080/"
        },
        "id": "g22yIazYGUp9",
        "outputId": "120a6e86-6a20-4570-c6fe-fbc1652ae396"
      },
      "source": [
        "today = np.datetime64('today', 'D')\n",
        "yesterday = np.datetime64('today', 'D') - np.timedelta64(1, 'D')\n",
        "tomorrow =np.datetime64('today', 'D') + np.timedelta64(1, 'D')\n",
        "print(tomorrow)\n",
        "print(today)\n",
        "print(yesterday)"
      ],
      "execution_count": 28,
      "outputs": [
        {
          "output_type": "stream",
          "name": "stdout",
          "text": [
            "2021-09-13\n",
            "2021-09-12\n",
            "2021-09-11\n"
          ]
        }
      ]
    }
  ]
}