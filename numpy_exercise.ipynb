{
  "nbformat": 4,
  "nbformat_minor": 0,
  "metadata": {
    "colab": {
      "name": "numpy-exercise.ipynb",
      "provenance": [],
      "collapsed_sections": [],
      "authorship_tag": "ABX9TyPEt8B/QjnLL8IeGa+12bUc",
      "include_colab_link": true
    },
    "kernelspec": {
      "name": "python3",
      "display_name": "Python 3"
    },
    "language_info": {
      "name": "python"
    }
  },
  "cells": [
    {
      "cell_type": "markdown",
      "metadata": {
        "id": "view-in-github",
        "colab_type": "text"
      },
      "source": [
        "<a href=\"https://colab.research.google.com/github/Riturajseal2001/numpy-exercise/blob/main/numpy_exercise.ipynb\" target=\"_parent\"><img src=\"https://colab.research.google.com/assets/colab-badge.svg\" alt=\"Open In Colab\"/></a>"
      ]
    },
    {
      "cell_type": "code",
      "metadata": {
        "colab": {
          "base_uri": "https://localhost:8080/"
        },
        "id": "dKHb5otnHofV",
        "outputId": "c58e46b6-9e7a-4f16-a219-9e0575d8e17c"
      },
      "source": [
        "import numpy as np\n",
        "print(np.__version__)\n",
        "print(np.show_config())"
      ],
      "execution_count": null,
      "outputs": [
        {
          "output_type": "stream",
          "name": "stdout",
          "text": [
            "1.19.5\n",
            "blas_mkl_info:\n",
            "  NOT AVAILABLE\n",
            "blis_info:\n",
            "  NOT AVAILABLE\n",
            "openblas_info:\n",
            "    libraries = ['openblas', 'openblas']\n",
            "    library_dirs = ['/usr/local/lib']\n",
            "    language = c\n",
            "    define_macros = [('HAVE_CBLAS', None)]\n",
            "blas_opt_info:\n",
            "    libraries = ['openblas', 'openblas']\n",
            "    library_dirs = ['/usr/local/lib']\n",
            "    language = c\n",
            "    define_macros = [('HAVE_CBLAS', None)]\n",
            "lapack_mkl_info:\n",
            "  NOT AVAILABLE\n",
            "openblas_lapack_info:\n",
            "    libraries = ['openblas', 'openblas']\n",
            "    library_dirs = ['/usr/local/lib']\n",
            "    language = c\n",
            "    define_macros = [('HAVE_CBLAS', None)]\n",
            "lapack_opt_info:\n",
            "    libraries = ['openblas', 'openblas']\n",
            "    library_dirs = ['/usr/local/lib']\n",
            "    language = c\n",
            "    define_macros = [('HAVE_CBLAS', None)]\n",
            "None\n"
          ]
        }
      ]
    },
    {
      "cell_type": "markdown",
      "metadata": {
        "id": "zeUpUGhBxBlx"
      },
      "source": [
        ""
      ]
    },
    {
      "cell_type": "code",
      "metadata": {
        "id": "8c15e3gXIUk_"
      },
      "source": [
        "ar = np.zeros(10)"
      ],
      "execution_count": null,
      "outputs": []
    },
    {
      "cell_type": "code",
      "metadata": {
        "colab": {
          "base_uri": "https://localhost:8080/"
        },
        "id": "QxpisMc2HsZr",
        "outputId": "b1dd2ebb-0480-4836-becd-7f64a070daf8"
      },
      "source": [
        "print(ar.size)"
      ],
      "execution_count": null,
      "outputs": [
        {
          "output_type": "stream",
          "name": "stdout",
          "text": [
            "10\n"
          ]
        }
      ]
    },
    {
      "cell_type": "code",
      "metadata": {
        "colab": {
          "base_uri": "https://localhost:8080/"
        },
        "id": "Be_5hKygJHMb",
        "outputId": "858b7124-89b5-4e8c-9211-37f2d31d2933"
      },
      "source": [
        "ar1 = np.zeros(10)\n",
        "ar1[4] = 1\n",
        "print(ar1)"
      ],
      "execution_count": null,
      "outputs": [
        {
          "output_type": "stream",
          "name": "stdout",
          "text": [
            "[0. 0. 0. 0. 1. 0. 0. 0. 0. 0.]\n"
          ]
        }
      ]
    },
    {
      "cell_type": "code",
      "metadata": {
        "colab": {
          "base_uri": "https://localhost:8080/"
        },
        "id": "2_qJU_rIMUTP",
        "outputId": "1ab96ad0-aec0-4cc8-dc77-830315467f10"
      },
      "source": [
        "V = np.arange(10,50)\n",
        "print(V)"
      ],
      "execution_count": null,
      "outputs": [
        {
          "output_type": "stream",
          "name": "stdout",
          "text": [
            "[10 11 12 13 14 15 16 17 18 19 20 21 22 23 24 25 26 27 28 29 30 31 32 33\n",
            " 34 35 36 37 38 39 40 41 42 43 44 45 46 47 48 49]\n"
          ]
        }
      ]
    },
    {
      "cell_type": "code",
      "metadata": {
        "colab": {
          "base_uri": "https://localhost:8080/"
        },
        "id": "2nZKqYQ6MWFv",
        "outputId": "23f131a8-d34a-45fd-862a-32fc1c35c459"
      },
      "source": [
        "V = V[:: -1 ]\n",
        "print(V)"
      ],
      "execution_count": null,
      "outputs": [
        {
          "output_type": "stream",
          "name": "stdout",
          "text": [
            "[49 48 47 46 45 44 43 42 41 40 39 38 37 36 35 34 33 32 31 30 29 28 27 26\n",
            " 25 24 23 22 21 20 19 18 17 16 15 14 13 12 11 10]\n"
          ]
        }
      ]
    },
    {
      "cell_type": "code",
      "metadata": {
        "colab": {
          "base_uri": "https://localhost:8080/"
        },
        "id": "nM8uCi-JMkvk",
        "outputId": "ba246c9e-91c4-441a-9656-15b2ccb6fc7c"
      },
      "source": [
        "ar3 = np.arange(0,9)\n",
        "ar3 = ar3.reshape(3,3)\n",
        "print(ar3)"
      ],
      "execution_count": null,
      "outputs": [
        {
          "output_type": "stream",
          "name": "stdout",
          "text": [
            "[[0 1 2]\n",
            " [3 4 5]\n",
            " [6 7 8]]\n"
          ]
        }
      ]
    },
    {
      "cell_type": "code",
      "metadata": {
        "colab": {
          "base_uri": "https://localhost:8080/"
        },
        "id": "2kRJsmj3Mz_h",
        "outputId": "97b574fd-b085-4d04-dc9f-0cdc3857a355"
      },
      "source": [
        "print(np.nonzero([1,2,0,0,4,0]))"
      ],
      "execution_count": null,
      "outputs": [
        {
          "output_type": "stream",
          "name": "stdout",
          "text": [
            "(array([0, 1, 4]),)\n"
          ]
        }
      ]
    },
    {
      "cell_type": "code",
      "metadata": {
        "colab": {
          "base_uri": "https://localhost:8080/"
        },
        "id": "pmTRfhyONpDP",
        "outputId": "def3a74b-6922-47d9-b297-ff5b3cf1c1aa"
      },
      "source": [
        "ar = np.eye(3)\n",
        "print(ar)"
      ],
      "execution_count": null,
      "outputs": [
        {
          "output_type": "stream",
          "name": "stdout",
          "text": [
            "[[1. 0. 0.]\n",
            " [0. 1. 0.]\n",
            " [0. 0. 1.]]\n"
          ]
        }
      ]
    },
    {
      "cell_type": "code",
      "metadata": {
        "colab": {
          "base_uri": "https://localhost:8080/"
        },
        "id": "ZbAdxQerNzjF",
        "outputId": "f511b4ef-86e0-4ec0-ad3e-05118b01f80f"
      },
      "source": [
        "print(np.random.uniform((3,3,3)))"
      ],
      "execution_count": null,
      "outputs": [
        {
          "output_type": "stream",
          "name": "stdout",
          "text": [
            "[2.9806496  2.5923613  1.66480581]\n"
          ]
        }
      ]
    },
    {
      "cell_type": "code",
      "metadata": {
        "colab": {
          "base_uri": "https://localhost:8080/"
        },
        "id": "0xF86RqByhQt",
        "outputId": "69528b97-abeb-46e4-f90e-ea513b490cc1"
      },
      "source": [
        "ar = np.random.random((10,10))\n",
        "mn = ar.min()\n",
        "mx = ar.max()\n",
        "print(ar)\n",
        "print(mn)\n",
        "print(mx)"
      ],
      "execution_count": null,
      "outputs": [
        {
          "output_type": "stream",
          "name": "stdout",
          "text": [
            "[[0.16096837 0.53568309 0.0422346  0.87623425 0.17748971 0.04004316\n",
            "  0.2169116  0.91515125 0.70810166 0.32815264]\n",
            " [0.49826799 0.55276244 0.94603032 0.54050616 0.28837058 0.93045859\n",
            "  0.43290514 0.74106146 0.68439378 0.1602329 ]\n",
            " [0.21587385 0.4738481  0.89804214 0.63649939 0.31981579 0.20171828\n",
            "  0.40268043 0.0852356  0.25158234 0.40135498]\n",
            " [0.32298287 0.73280403 0.7423344  0.73445049 0.32202678 0.41598925\n",
            "  0.40221141 0.44698588 0.13537773 0.46579772]\n",
            " [0.42748519 0.73348677 0.43956696 0.64046916 0.1522644  0.85385522\n",
            "  0.39409716 0.8181524  0.77967294 0.47204759]\n",
            " [0.86916128 0.11201117 0.1092997  0.51404854 0.91281055 0.16669753\n",
            "  0.29619987 0.60394058 0.77256312 0.39892511]\n",
            " [0.49001248 0.93786093 0.46491872 0.06231716 0.2108306  0.47945718\n",
            "  0.68915129 0.53515432 0.06488008 0.87437198]\n",
            " [0.27679403 0.31014526 0.16496692 0.47547632 0.54187197 0.29039815\n",
            "  0.97376892 0.15437775 0.14392064 0.82595026]\n",
            " [0.15872656 0.75344358 0.48918558 0.44440521 0.30865188 0.28041512\n",
            "  0.76590774 0.43482938 0.91440995 0.68439393]\n",
            " [0.96630823 0.56079126 0.76386865 0.89804012 0.24153761 0.2417605\n",
            "  0.14696847 0.9069936  0.0279605  0.31985684]]\n",
            "0.027960499557939222\n",
            "0.9737689227538073\n"
          ]
        }
      ]
    },
    {
      "cell_type": "code",
      "metadata": {
        "colab": {
          "base_uri": "https://localhost:8080/"
        },
        "id": "vB20FdyLzdy0",
        "outputId": "12947a6b-86ab-438b-d679-8a9d32d3f142"
      },
      "source": [
        "v = np.random.random(30)\n",
        "print(v.mean())\n",
        "print(v)"
      ],
      "execution_count": null,
      "outputs": [
        {
          "output_type": "stream",
          "name": "stdout",
          "text": [
            "0.4499368333986534\n",
            "[0.56841821 0.38640011 0.78445216 0.88988495 0.54905746 0.12287011\n",
            " 0.01381007 0.87844978 0.12825815 0.84816104 0.17367331 0.17716212\n",
            " 0.51613066 0.06977962 0.22061955 0.32952713 0.81010879 0.16139781\n",
            " 0.4875397  0.48605242 0.12943164 0.93567382 0.66903259 0.95435148\n",
            " 0.21951462 0.03233365 0.19954912 0.71368805 0.079777   0.96299988]\n"
          ]
        }
      ]
    },
    {
      "cell_type": "code",
      "metadata": {
        "colab": {
          "base_uri": "https://localhost:8080/"
        },
        "id": "7HnHTmjdz207",
        "outputId": "ef55a576-4022-4dd5-9e13-639e423a1ad7"
      },
      "source": [
        "ar = np.ones((10,10))\n",
        "ar[1:-1,1:-1] = 0\n",
        "print(ar)"
      ],
      "execution_count": null,
      "outputs": [
        {
          "output_type": "stream",
          "name": "stdout",
          "text": [
            "[[1. 1. 1. 1. 1. 1. 1. 1. 1. 1.]\n",
            " [1. 0. 0. 0. 0. 0. 0. 0. 0. 1.]\n",
            " [1. 0. 0. 0. 0. 0. 0. 0. 0. 1.]\n",
            " [1. 0. 0. 0. 0. 0. 0. 0. 0. 1.]\n",
            " [1. 0. 0. 0. 0. 0. 0. 0. 0. 1.]\n",
            " [1. 0. 0. 0. 0. 0. 0. 0. 0. 1.]\n",
            " [1. 0. 0. 0. 0. 0. 0. 0. 0. 1.]\n",
            " [1. 0. 0. 0. 0. 0. 0. 0. 0. 1.]\n",
            " [1. 0. 0. 0. 0. 0. 0. 0. 0. 1.]\n",
            " [1. 1. 1. 1. 1. 1. 1. 1. 1. 1.]]\n"
          ]
        }
      ]
    },
    {
      "cell_type": "code",
      "metadata": {
        "colab": {
          "base_uri": "https://localhost:8080/"
        },
        "id": "A_570S3C0eaK",
        "outputId": "5598f5f9-3cce-48fd-a1fd-ad2e86d7274b"
      },
      "source": [
        "print(0 * np.nan)\n",
        "print(np.nan == np.nan)\n",
        "print(np.inf > np.nan)\n",
        "print(np.nan - np.nan)\n",
        "print(np.nan in set([np.nan]))\n",
        "print(0.3 == 3 * 0.1)\n"
      ],
      "execution_count": null,
      "outputs": [
        {
          "output_type": "stream",
          "name": "stdout",
          "text": [
            "nan\n",
            "False\n",
            "False\n",
            "nan\n",
            "True\n",
            "False\n"
          ]
        }
      ]
    },
    {
      "cell_type": "code",
      "metadata": {
        "colab": {
          "base_uri": "https://localhost:8080/"
        },
        "id": "Xp9ChCiJ01RD",
        "outputId": "bc3a9183-e8a8-44a1-84d7-1d420fc83563"
      },
      "source": [
        "ar = np.diag(1+np.arange(4), k = -1)\n",
        "print(ar)"
      ],
      "execution_count": null,
      "outputs": [
        {
          "output_type": "stream",
          "name": "stdout",
          "text": [
            "[[0 0 0 0 0]\n",
            " [1 0 0 0 0]\n",
            " [0 2 0 0 0]\n",
            " [0 0 3 0 0]\n",
            " [0 0 0 4 0]]\n"
          ]
        }
      ]
    },
    {
      "cell_type": "code",
      "metadata": {
        "colab": {
          "base_uri": "https://localhost:8080/"
        },
        "id": "3fVWH5xU1fKZ",
        "outputId": "b958ceab-ebdc-48da-8a33-9fa4745f1a69"
      },
      "source": [
        "ar = np.zeros ((8,8))\n",
        "ar[1::2, ::2]= 1\n",
        "ar[::2, 1::2] = 1\n",
        "print (ar)"
      ],
      "execution_count": null,
      "outputs": [
        {
          "output_type": "stream",
          "name": "stdout",
          "text": [
            "[[0. 1. 0. 1. 0. 1. 0. 1.]\n",
            " [1. 0. 1. 0. 1. 0. 1. 0.]\n",
            " [0. 1. 0. 1. 0. 1. 0. 1.]\n",
            " [1. 0. 1. 0. 1. 0. 1. 0.]\n",
            " [0. 1. 0. 1. 0. 1. 0. 1.]\n",
            " [1. 0. 1. 0. 1. 0. 1. 0.]\n",
            " [0. 1. 0. 1. 0. 1. 0. 1.]\n",
            " [1. 0. 1. 0. 1. 0. 1. 0.]]\n"
          ]
        }
      ]
    },
    {
      "cell_type": "code",
      "metadata": {
        "colab": {
          "base_uri": "https://localhost:8080/"
        },
        "id": "X21cCYg097K8",
        "outputId": "154e2dcd-8f9f-458f-97ec-7d795733a820"
      },
      "source": [
        "ar = np.random.random((5,5))\n",
        "max, min = ar.max(), ar.min()\n",
        "ar = (ar-min)/(max-min)\n",
        "print (ar)"
      ],
      "execution_count": null,
      "outputs": [
        {
          "output_type": "stream",
          "name": "stdout",
          "text": [
            "[[0.3693993  0.07772961 0.80365498 0.92101239 0.36557973]\n",
            " [0.01066449 0.54934019 0.21516429 0.66479042 0.17554274]\n",
            " [0.46118526 0.35714763 1.         0.97568951 0.57515698]\n",
            " [0.14658663 0.19579383 0.90024583 0.69629365 0.51804837]\n",
            " [0.26715433 0.8986345  0.17171475 0.1643597  0.        ]]\n"
          ]
        }
      ]
    },
    {
      "cell_type": "code",
      "metadata": {
        "id": "e56zLsBuB-n5"
      },
      "source": [
        "color = np.dtype([(\"r\", np.int),\n",
        "                  (\"g\", np.int),\n",
        "                  (\"b\", np.int),\n",
        "                  (\"a\", np.int)])"
      ],
      "execution_count": null,
      "outputs": []
    },
    {
      "cell_type": "code",
      "metadata": {
        "colab": {
          "base_uri": "https://localhost:8080/"
        },
        "id": "iqldh7TyCpzw",
        "outputId": "b2483dc0-0742-4529-d4f1-5b2cd29153c5"
      },
      "source": [
        "np.dot((np.arange(15).reshape((5,3))),(np.arange(6).reshape((3,2))))"
      ],
      "execution_count": null,
      "outputs": [
        {
          "output_type": "execute_result",
          "data": {
            "text/plain": [
              "array([[ 10,  13],\n",
              "       [ 28,  40],\n",
              "       [ 46,  67],\n",
              "       [ 64,  94],\n",
              "       [ 82, 121]])"
            ]
          },
          "metadata": {},
          "execution_count": 43
        }
      ]
    },
    {
      "cell_type": "code",
      "metadata": {
        "colab": {
          "base_uri": "https://localhost:8080/"
        },
        "id": "8V-HnwuHCVJt",
        "outputId": "14aef224-4afa-49ac-8ccf-35e66cbb0b11"
      },
      "source": [
        "x = np.arange(20)\n",
        "x[(x >= 3) & (x <= 8)] = -1\n",
        "print(x)"
      ],
      "execution_count": null,
      "outputs": [
        {
          "output_type": "stream",
          "name": "stdout",
          "text": [
            "[ 0  1  2 -1 -1 -1 -1 -1 -1  9 10 11 12 13 14 15 16 17 18 19]\n"
          ]
        }
      ]
    },
    {
      "cell_type": "code",
      "metadata": {
        "colab": {
          "base_uri": "https://localhost:8080/"
        },
        "id": "zOgDCi0ZEoxr",
        "outputId": "c68dc2bd-24b4-484d-9291-2bcea4bf474f"
      },
      "source": [
        "print(sum(range(5),-1))\n",
        "from numpy import *\n",
        "print(sum(range(5),-1))"
      ],
      "execution_count": null,
      "outputs": [
        {
          "output_type": "stream",
          "name": "stdout",
          "text": [
            "9\n",
            "10\n"
          ]
        }
      ]
    },
    {
      "cell_type": "code",
      "metadata": {
        "colab": {
          "base_uri": "https://localhost:8080/"
        },
        "id": "s85LLVP4Eu_l",
        "outputId": "9d48a299-cca7-4dae-9b9d-e99a72c6529e"
      },
      "source": [
        "Z = np.arange(5)\n",
        "Z**Z\n",
        "2 << Z >> 2\n",
        "Z <- Z\n",
        "1j*Z\n",
        "Z/1/1"
      ],
      "execution_count": null,
      "outputs": [
        {
          "output_type": "execute_result",
          "data": {
            "text/plain": [
              "array([0., 1., 2., 3., 4.])"
            ]
          },
          "metadata": {},
          "execution_count": 55
        }
      ]
    },
    {
      "cell_type": "code",
      "metadata": {
        "colab": {
          "base_uri": "https://localhost:8080/"
        },
        "id": "FZ6QTtSaFI-x",
        "outputId": "5fed8d4c-828c-4d4a-8a6f-cda2cd986a2f"
      },
      "source": [
        "ar = np.zeros(5)\n",
        "np.array(0) / np.array(0)\n",
        "np.array(0) // np.array(0)\n",
        "np.array([np.nan]).astype(int).astype(float)"
      ],
      "execution_count": null,
      "outputs": [
        {
          "output_type": "stream",
          "name": "stderr",
          "text": [
            "/usr/local/lib/python3.7/dist-packages/ipykernel_launcher.py:2: RuntimeWarning: invalid value encountered in true_divide\n",
            "  \n",
            "/usr/local/lib/python3.7/dist-packages/ipykernel_launcher.py:3: RuntimeWarning: divide by zero encountered in floor_divide\n",
            "  This is separate from the ipykernel package so we can avoid doing imports until\n"
          ]
        },
        {
          "output_type": "execute_result",
          "data": {
            "text/plain": [
              "array([-9.22337204e+18])"
            ]
          },
          "metadata": {},
          "execution_count": 56
        }
      ]
    },
    {
      "cell_type": "code",
      "metadata": {
        "colab": {
          "base_uri": "https://localhost:8080/"
        },
        "id": "1Pgageq2FcBb",
        "outputId": "053c0a29-425c-470a-f836-ba9e91cc7514"
      },
      "source": [
        "x = np.random.uniform(-10, +10, 10)\n",
        "np.copysign(np.ceil(np.abs(x)), x)"
      ],
      "execution_count": null,
      "outputs": [
        {
          "output_type": "execute_result",
          "data": {
            "text/plain": [
              "array([ 2., -5., -7., -8., -2., 10.,  3.,  9., -3., -5.])"
            ]
          },
          "metadata": {},
          "execution_count": 57
        }
      ]
    },
    {
      "cell_type": "code",
      "metadata": {
        "colab": {
          "base_uri": "https://localhost:8080/"
        },
        "id": "s26myWDwFnxk",
        "outputId": "cfd2adf7-9c73-4a2b-d96f-7076a0d644c5"
      },
      "source": [
        "x = np.arange(0, 15)\n",
        "y = np.arange(5, 15)\n",
        "np.intersect1d(x, y)"
      ],
      "execution_count": null,
      "outputs": [
        {
          "output_type": "execute_result",
          "data": {
            "text/plain": [
              "array([ 5,  6,  7,  8,  9, 10, 11, 12, 13, 14])"
            ]
          },
          "metadata": {},
          "execution_count": 59
        }
      ]
    },
    {
      "cell_type": "code",
      "metadata": {
        "id": "ZpLdA1HSF6pL"
      },
      "source": [
        "defaults = np.seterr(all=\"ignore\")\n",
        "# _ = np.seterr(**defaults)\n",
        "Z = np.ones(1) / 0\n",
        "_ = np.seterr(**defaults)"
      ],
      "execution_count": 66,
      "outputs": []
    },
    {
      "cell_type": "code",
      "metadata": {
        "colab": {
          "base_uri": "https://localhost:8080/"
        },
        "id": "d5yAVQFpGKab",
        "outputId": "1c26c690-faf4-4739-a2b6-93fa6485d780"
      },
      "source": [
        "print(np.sqrt(-1) == np.emath.sqrt(-1))"
      ],
      "execution_count": 62,
      "outputs": [
        {
          "output_type": "stream",
          "name": "stdout",
          "text": [
            "False\n"
          ]
        }
      ]
    },
    {
      "cell_type": "code",
      "metadata": {
        "colab": {
          "base_uri": "https://localhost:8080/"
        },
        "id": "g22yIazYGUp9",
        "outputId": "858d30e5-7a8c-4913-c881-da45ea6ef8ca"
      },
      "source": [
        "today = np.datetime64('today', 'D')\n",
        "yesterday = np.datetime64('today', 'D') - np.timedelta64(1, 'D')\n",
        "tomorrow =np.datetime64('today', 'D') + np.timedelta64(1, 'D')\n",
        "print(tomorrow)\n",
        "print(today)\n",
        "print(yesterday)"
      ],
      "execution_count": 70,
      "outputs": [
        {
          "output_type": "stream",
          "name": "stdout",
          "text": [
            "2021-09-03\n",
            "2021-09-02\n",
            "2021-09-01\n"
          ]
        }
      ]
    }
  ]
}